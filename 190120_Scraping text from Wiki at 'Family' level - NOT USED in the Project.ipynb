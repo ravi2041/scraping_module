{
 "cells": [
  {
   "cell_type": "markdown",
   "metadata": {},
   "source": [
    "### PROGRAM TO DOWNLOAD TEXT AT 'FAMILY' LEVEL FROM WIKIPEDIA\n",
    "\n",
    "#### TEXT DOWNLOADING MADE POSSIBLE BUT ABANDONED AS RESULTS WERE NOT MEETING THE REQUIREMENT\n",
    "\n",
    "- for our anallysis, we wanted specific details of each insect - at family level, many of these details were not available."
   ]
  },
  {
   "cell_type": "code",
   "execution_count": 9,
   "metadata": {},
   "outputs": [],
   "source": [
    "import pandas as pd\n",
    "import numpy as np\n",
    "import wikipedia\n",
    "import sys"
   ]
  },
  {
   "cell_type": "code",
   "execution_count": 2,
   "metadata": {},
   "outputs": [],
   "source": [
    "df = pd.read_excel(\"T:/projects/2018/SCION/Stream 2/All Exotic GBIF Merged Data/Exotic_Species_Master_Data_1.xlsx\")"
   ]
  },
  {
   "cell_type": "code",
   "execution_count": 3,
   "metadata": {},
   "outputs": [
    {
     "data": {
      "text/plain": [
       "Index(['order', 'family', 'genus', 'species', 'genus_species',\n",
       "       'original_species_name', 'name_changed', 'TSN', 'rank', 'year',\n",
       "       'super_family', 'town', 'region', 'NZ_area_code', 'origin', 'ecozone',\n",
       "       'current_distribution_cosmopolitan?', 'Phagy', 'phagy_main',\n",
       "       'feeding_type', 'feeding_main', 'size_mm', 'size_source',\n",
       "       'color_histogram', 'desired_or_pest', 'Harmful For ? ',\n",
       "       'Occupation of Observer', 'Media Coverage with Timestamp', 'locality',\n",
       "       'GBIF_decimalLatitude', 'GBIF_decimalLongitude', 'GBIF_eventDate',\n",
       "       'GBIF_year', 'GBIF_month', 'GBIF_day', 'GBIF_basisOfRecord',\n",
       "       'GBIF_recordedBy_x', 'lastInterpreted', 'count_of_observations',\n",
       "       'Observation_Date', 'Normalised_Frequency', 'Last_Observed',\n",
       "       'First_Observed', 'seasonality', 'count of unique observers', 'weekday',\n",
       "       'Holiday_Name', 'Is_Holiday', 'BG_size_x', 'BG_Season', 'BG_Life_cycle',\n",
       "       'BG_Remarks', 'BG_Food', 'BG_Identification', 'BG_Range',\n",
       "       'wiki_description', 'BG_avg_Size', 'serial', 'name', 'LR_url',\n",
       "       'LR_text', 'LR_size', 'LR_distribution', 'LR_life_history',\n",
       "       'LR_average_size', 'Present in GBIF', 'GBIF_city', 'GBIF_region',\n",
       "       'GBIF_state', 'GBIF_country_code', 'full_analysis_text', 'colours',\n",
       "       'count_of_colours'],\n",
       "      dtype='object')"
      ]
     },
     "execution_count": 3,
     "metadata": {},
     "output_type": "execute_result"
    }
   ],
   "source": [
    "df.columns"
   ]
  },
  {
   "cell_type": "code",
   "execution_count": 18,
   "metadata": {},
   "outputs": [],
   "source": [
    "family_df = df['family']\n",
    "family_df = family_df.unique()"
   ]
  },
  {
   "cell_type": "code",
   "execution_count": 30,
   "metadata": {},
   "outputs": [
    {
     "data": {
      "text/plain": [
       "array(['Diaspididae', 'Curculionidae', 'Coreidae', 'Chrysomelidae',\n",
       "       'Membracidae', 'Achilidae', 'Pyralidae'], dtype=object)"
      ]
     },
     "execution_count": 30,
     "metadata": {},
     "output_type": "execute_result"
    }
   ],
   "source": [
    "family_df[:7]"
   ]
  },
  {
   "cell_type": "code",
   "execution_count": 52,
   "metadata": {},
   "outputs": [
    {
     "name": "stdout",
     "output_type": "stream",
     "text": [
      "['== Description ==', 'They are recognized by their distinctive long snouts and geniculate antennae with small clubs; beyond that, curculionids have considerable diversity of form and size, with adult lengths ranging from 1 to 40 mm (0.04 to 1.57 in).', '', 'Weevils are almost entirely plant feeders, and most species are associated with a narrow range of hosts, in many cases only living on a single species. With so many species to classify and over 400 genera, the taxonomy of this family is quite complicated, and authors disagree on the number and placement of various subfamilies, tribes, and subtribes.', '', '', '== Phylogeny and systematics ==', 'The phylogeny of the group is complex; with so many species, a spirited debate exists about the relationships between subfamilies and genera.  A 1997 analysis attempted to construct a phylogeny based mainly on larval characteristics.Recent work on the phylogenetic relationships in weevils mentions the two subfamily groups Adelognatha (short-nosed weevils, subfamily Entiminae) and Phanerognatha (long-nosed weevils, subfamilies of Curculionidae other than Entiminae) for the species of Curculionidae.Almost two dozen subfamilies are recognized by some authors even when merging those that are certainly invalid. Others, however, recognize a lesser number – the only subfamilies that are almost universally considered valid are the Baridinae, Cossoninae, Curculioninae, Cyclominae, Entiminae, Molytinae, Platypodinae, and Scolytinae.  The various proposed taxonomic schemes typically  recognize as many additional subfamilies again, but little agreement is seen between authorities about which.  In particular, the delimitation of the Molytinae has proven difficult.', '', 'The subfamilies considered valid by at least some authors today:', '', 'Bagoinae (sometimes in Molytinae)', 'Baridinae', 'Brachycerinae (disputed)', 'Conoderinae (sometimes in Baridinae)', 'Cossoninae', 'Cryptorhynchinae (sometimes in Curculioninae)', 'Acalles', 'Curculioninae – flower weevils, acorn and nut weevils', 'Cyclominae', 'Dryophthorinae (disputed)', 'Entiminae – broad-nosed weevils', 'Hyperinae (sometimes in Molytinae)', 'Lixinae (sometimes in Molytinae)', 'Mesoptiliinae (sometimes in Molytinae)', 'Molytinae', 'Orobitidinae (sometimes in Baridinae)', 'Platypodinae – typical ambrosia beetles', 'Raymondionyminae (sometimes in Brachycerinae)', 'Scolytinae – bark beetles', 'Xiphaspidinae (sometimes in Baridinae)', '', '', '== See also ==', '', 'Black vine weevil', 'Boll weevil', 'Pecan weevil', 'Wheat weevil', 'Hylobius', 'Scolytoplatypus', 'Pests and diseases of roses', '', '', '== References ==', '', '', '== External links ==', ' Media related to Curculionidae  at Wikimedia Commons', ' Data related to Curculionidae at Wikispecies', 'Images of Curculionidae species found in New ZealandOn the University of Florida / Institute of Food and Agricultural Sciences Featured Creatures website:', '', 'Anthonomus eugenii, pepper weevil', 'Cylas formicarius, sweetpotato weevil', 'Chalcodermus aeneus, cowpea curculio', 'Cosmopolites sordidus, banana root borer', 'Eudociminus mannerheimii, cypress weevil', 'Eurhinus magnificus', 'Gerstaeckeria spp.', 'Metamasius callizona, Mexican bromeliad weevil', 'Metamasius hemipterus sericeus, silky cane weevil,', 'Metamasius mosieri, Florida bromeliad weevil', 'Naupactus (=Graphognathus) spp., whitefringed beetles', 'Oxyops vitiosa, melaleuca weevil', 'Pantomorus cervinus, Fuller rose weevil', 'Pseudocneorhinus bifasciatus, twobanded Japanese weevil', 'Rhynchophorus cruentatus, palmetto weevil', 'Sphenophorus venatus, hunting billbugOther University web pages on economically important curculids:', '', 'Conotrachelus nenuphar, plum curculio  from the Ohio State University', 'Orchestes pallicornis, apple flea weevil  from Michigan State University']\n"
     ]
    }
   ],
   "source": [
    "x = \"\"\n",
    "new_x = []\n",
    "description = []\n",
    "Distribution_habitat = []\n",
    "parasite_host = []\n",
    "pest_species = []\n",
    "for i in family_df[1:2]:\n",
    "    try:\n",
    "        url_link = wikipedia.page(i)\n",
    "        x = url_link.content\n",
    "        #print(x)\n",
    "        new_x = x.split(\"\\n\")\n",
    "        #description.append(new_x)\n",
    "        try:\n",
    "            d_index = new_x.index(\"== Description ==\")\n",
    "            \n",
    "            #life_index = new_x.index('== Life cycle ==')\n",
    "            print(new_x[d_index:])\n",
    "            description.append(new_x[d_index:])\n",
    "#             try:\n",
    "#                 habitat_index = new_x.index(\"== Distribution and habitat ==\")\n",
    "#                 parasite_index = new_x.index(\"== As parasite host ==\")\n",
    "#                 Distribution_habitat.append(new_x[habitat_index:parasite_index])\n",
    "#                 try:\n",
    "#                     parasite_index = new_x.index(\"== As parasite host ==\")\n",
    "#                     pest_index = new_x.index('== As a pest species ==')\n",
    "#                     parasite_host.append(new_x[parasite_index:pest_index])\n",
    "#                     try:\n",
    "#                         pest_index = new_x.index('== As a pest species ==')\n",
    "#                         pest_species.append(new_x[pest_index:pest_index +1 ])\n",
    "#                     except:\n",
    "#                         pest_species.append(\"NA\")\n",
    "                        \n",
    "                        \n",
    "#                 except:\n",
    "#                     parasite_host.append(\"NA\")\n",
    "#             except:\n",
    "#                 Distribution_habitat.append(\"NA\")\n",
    "            \n",
    "            \n",
    "            \n",
    "        except:\n",
    "            description.append(\"NA\")\n",
    "        \n",
    "        \n",
    "    except:\n",
    "        description.append(\"page not found\")\n",
    "        \n"
   ]
  },
  {
   "cell_type": "code",
   "execution_count": 53,
   "metadata": {},
   "outputs": [
    {
     "data": {
      "text/plain": [
       "[['== Description ==',\n",
       "  'They are recognized by their distinctive long snouts and geniculate antennae with small clubs; beyond that, curculionids have considerable diversity of form and size, with adult lengths ranging from 1 to 40 mm (0.04 to 1.57 in).',\n",
       "  '',\n",
       "  'Weevils are almost entirely plant feeders, and most species are associated with a narrow range of hosts, in many cases only living on a single species. With so many species to classify and over 400 genera, the taxonomy of this family is quite complicated, and authors disagree on the number and placement of various subfamilies, tribes, and subtribes.',\n",
       "  '',\n",
       "  '',\n",
       "  '== Phylogeny and systematics ==',\n",
       "  'The phylogeny of the group is complex; with so many species, a spirited debate exists about the relationships between subfamilies and genera.  A 1997 analysis attempted to construct a phylogeny based mainly on larval characteristics.Recent work on the phylogenetic relationships in weevils mentions the two subfamily groups Adelognatha (short-nosed weevils, subfamily Entiminae) and Phanerognatha (long-nosed weevils, subfamilies of Curculionidae other than Entiminae) for the species of Curculionidae.Almost two dozen subfamilies are recognized by some authors even when merging those that are certainly invalid. Others, however, recognize a lesser number – the only subfamilies that are almost universally considered valid are the Baridinae, Cossoninae, Curculioninae, Cyclominae, Entiminae, Molytinae, Platypodinae, and Scolytinae.  The various proposed taxonomic schemes typically  recognize as many additional subfamilies again, but little agreement is seen between authorities about which.  In particular, the delimitation of the Molytinae has proven difficult.',\n",
       "  '',\n",
       "  'The subfamilies considered valid by at least some authors today:',\n",
       "  '',\n",
       "  'Bagoinae (sometimes in Molytinae)',\n",
       "  'Baridinae',\n",
       "  'Brachycerinae (disputed)',\n",
       "  'Conoderinae (sometimes in Baridinae)',\n",
       "  'Cossoninae',\n",
       "  'Cryptorhynchinae (sometimes in Curculioninae)',\n",
       "  'Acalles',\n",
       "  'Curculioninae – flower weevils, acorn and nut weevils',\n",
       "  'Cyclominae',\n",
       "  'Dryophthorinae (disputed)',\n",
       "  'Entiminae – broad-nosed weevils',\n",
       "  'Hyperinae (sometimes in Molytinae)',\n",
       "  'Lixinae (sometimes in Molytinae)',\n",
       "  'Mesoptiliinae (sometimes in Molytinae)',\n",
       "  'Molytinae',\n",
       "  'Orobitidinae (sometimes in Baridinae)',\n",
       "  'Platypodinae – typical ambrosia beetles',\n",
       "  'Raymondionyminae (sometimes in Brachycerinae)',\n",
       "  'Scolytinae – bark beetles',\n",
       "  'Xiphaspidinae (sometimes in Baridinae)',\n",
       "  '',\n",
       "  '',\n",
       "  '== See also ==',\n",
       "  '',\n",
       "  'Black vine weevil',\n",
       "  'Boll weevil',\n",
       "  'Pecan weevil',\n",
       "  'Wheat weevil',\n",
       "  'Hylobius',\n",
       "  'Scolytoplatypus',\n",
       "  'Pests and diseases of roses',\n",
       "  '',\n",
       "  '',\n",
       "  '== References ==',\n",
       "  '',\n",
       "  '',\n",
       "  '== External links ==',\n",
       "  ' Media related to Curculionidae  at Wikimedia Commons',\n",
       "  ' Data related to Curculionidae at Wikispecies',\n",
       "  'Images of Curculionidae species found in New ZealandOn the University of Florida / Institute of Food and Agricultural Sciences Featured Creatures website:',\n",
       "  '',\n",
       "  'Anthonomus eugenii, pepper weevil',\n",
       "  'Cylas formicarius, sweetpotato weevil',\n",
       "  'Chalcodermus aeneus, cowpea curculio',\n",
       "  'Cosmopolites sordidus, banana root borer',\n",
       "  'Eudociminus mannerheimii, cypress weevil',\n",
       "  'Eurhinus magnificus',\n",
       "  'Gerstaeckeria spp.',\n",
       "  'Metamasius callizona, Mexican bromeliad weevil',\n",
       "  'Metamasius hemipterus sericeus, silky cane weevil,',\n",
       "  'Metamasius mosieri, Florida bromeliad weevil',\n",
       "  'Naupactus (=Graphognathus) spp., whitefringed beetles',\n",
       "  'Oxyops vitiosa, melaleuca weevil',\n",
       "  'Pantomorus cervinus, Fuller rose weevil',\n",
       "  'Pseudocneorhinus bifasciatus, twobanded Japanese weevil',\n",
       "  'Rhynchophorus cruentatus, palmetto weevil',\n",
       "  'Sphenophorus venatus, hunting billbugOther University web pages on economically important curculids:',\n",
       "  '',\n",
       "  'Conotrachelus nenuphar, plum curculio  from the Ohio State University',\n",
       "  'Orchestes pallicornis, apple flea weevil  from Michigan State University']]"
      ]
     },
     "execution_count": 53,
     "metadata": {},
     "output_type": "execute_result"
    }
   ],
   "source": [
    "description"
   ]
  },
  {
   "cell_type": "code",
   "execution_count": 44,
   "metadata": {},
   "outputs": [
    {
     "data": {
      "text/plain": [
       "[]"
      ]
     },
     "execution_count": 44,
     "metadata": {},
     "output_type": "execute_result"
    }
   ],
   "source": [
    "Distribution_habitat "
   ]
  },
  {
   "cell_type": "code",
   "execution_count": 45,
   "metadata": {},
   "outputs": [
    {
     "data": {
      "text/plain": [
       "[]"
      ]
     },
     "execution_count": 45,
     "metadata": {},
     "output_type": "execute_result"
    }
   ],
   "source": [
    "parasite_host"
   ]
  },
  {
   "cell_type": "code",
   "execution_count": null,
   "metadata": {},
   "outputs": [],
   "source": []
  }
 ],
 "metadata": {
  "kernelspec": {
   "display_name": "Python 3",
   "language": "python",
   "name": "python3"
  },
  "language_info": {
   "codemirror_mode": {
    "name": "ipython",
    "version": 3
   },
   "file_extension": ".py",
   "mimetype": "text/x-python",
   "name": "python",
   "nbconvert_exporter": "python",
   "pygments_lexer": "ipython3",
   "version": "3.6.5"
  }
 },
 "nbformat": 4,
 "nbformat_minor": 2
}
