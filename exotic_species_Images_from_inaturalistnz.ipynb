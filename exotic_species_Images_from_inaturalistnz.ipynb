{
 "cells": [
  {
   "cell_type": "markdown",
   "metadata": {},
   "source": [
    "# IMAGES FROM  INATURALIST NZ AS PER EXOTIC LIST\n",
    "\n",
    "    - This program downloads images from the inaturalist.nz as per the exotic species list.\n",
    "    - These images were required for testing the machine learning model for selecting visually similar images.\n",
    "    - Input : Any file which contains names of 1500 exotic speceis list\n",
    "    - output : images downloaded in a new folder with names of images appended as abc_0.jpeg, abc_1.jpeg, abc_2.jpeg, xyz_0.jpeg, mno_0.jpeg, mno_1.jpeg , where, species abc, xyz and mno have 3, 1 and 2 images respectively.\n",
    "    - The program also makes two lists / new columns containing details of species for which no urls for images were found on inaturalist.nz and the details of number of images found for each species.\n",
    "    - Results : a total of 1776 images were downloaded (of 733 distinct species out of 1500). A POINT OF CONTENTION as  inaturalist.nz webpage shows a count of only 550 research grade pictures of introduced species. (NEEDS RECONCILIATION or further investigation).\n"
   ]
  },
  {
   "cell_type": "markdown",
   "metadata": {},
   "source": [
    "### Idea of the program\n",
    "    - The program looks up the search page of inaturalist.nz for each insect and further looks for 'browse_photos' page of each insects using the research grade filter. From this web page, urls for large images are selected out of the html text of the page.\n",
    "    - further, the images are downloaded with a delay of one second each."
   ]
  },
  {
   "cell_type": "code",
   "execution_count": 14,
   "metadata": {},
   "outputs": [],
   "source": [
    "import pandas as pd\n",
    "from selenium import webdriver"
   ]
  },
  {
   "cell_type": "code",
   "execution_count": 15,
   "metadata": {},
   "outputs": [],
   "source": [
    "import requests\n",
    "from bs4 import BeautifulSoup as bs\n",
    "import urllib\n",
    "import time \n",
    "import os"
   ]
  },
  {
   "cell_type": "markdown",
   "metadata": {},
   "source": [
    "## Getting the Names from Exotic Insects List"
   ]
  },
  {
   "cell_type": "code",
   "execution_count": null,
   "metadata": {},
   "outputs": [],
   "source": [
    "# Original GBIF Exotic data in excel format. Reading excel file using pandas \n",
    "data = pd.read_excel(\"specieslist.xlsx\")\n",
    "data.columns"
   ]
  },
  {
   "cell_type": "code",
   "execution_count": 18,
   "metadata": {},
   "outputs": [],
   "source": [
    "list_species = data['Original species name']\n",
    "list_species = list_species.unique()"
   ]
  },
  {
   "cell_type": "code",
   "execution_count": 19,
   "metadata": {},
   "outputs": [],
   "source": [
    "names = []\n",
    "for name in list_species: \n",
    "    first = name.split()[0]\n",
    "    second = name.split()[1]\n",
    "    new_name = first + \"-\" + second\n",
    "    names.append(new_name)"
   ]
  },
  {
   "cell_type": "markdown",
   "metadata": {},
   "source": [
    "##  Obtaining the urls of large images from the browse_photos webpage of inaturalist using the 'research' grade filter, based on the Exotic Species list"
   ]
  },
  {
   "cell_type": "code",
   "execution_count": 21,
   "metadata": {},
   "outputs": [],
   "source": [
    "driver = webdriver.Firefox(executable_path=r\"path/geckodriver-v0.23.0-win64/geckodriver.exe\")"
   ]
  },
  {
   "cell_type": "code",
   "execution_count": 24,
   "metadata": {
    "scrolled": true
   },
   "outputs": [],
   "source": [
    "urls_for_images = []\n",
    "searchUrl_image_link_list = []\n",
    "for name in names:\n",
    "    \n",
    "    url = \"https://inaturalist.nz/taxa/search?q=\"+name.lower()\n",
    "    driver.get(url)\n",
    "    \n",
    "    html = driver.page_source\n",
    "    soup = bs(html, \"lxml\")\n",
    "    links  = soup.find_all(\"a\")\n",
    "\n",
    "    \n",
    "    searchUrl= []\n",
    "    for link in links:\n",
    "        name_with_code = link.get('href')\n",
    "        if name_with_code.endswith(name):\n",
    "            searchUrl.append(name_with_code)\n",
    "            \n",
    "            #print(name_with_code)\n",
    "        \n",
    "    \n",
    "    if len(searchUrl) >0:\n",
    "        #searchUrl_image_link_list.append('https://inaturalist.nz'+searchUrl[0]+'/browse_photos')\n",
    "        searchUrl_image_link_list.append('https://inaturalist.nz'+searchUrl[0]+'/browse_photos?quality_grade=research&photo_license=any')\n",
    "    else:\n",
    "        searchUrl_image_link_list.append('NA')\n",
    "        #print('https://inaturalist.nz'+searchUrl[0]+'/browse_photos')"
   ]
  },
  {
   "cell_type": "code",
   "execution_count": 25,
   "metadata": {},
   "outputs": [
    {
     "data": {
      "text/plain": [
       "['https://inaturalist.nz/taxa/122094-Abgrallaspis-cyanophylli/browse_photos',\n",
       " 'NA',\n",
       " 'https://inaturalist.nz/taxa/384843-Acantholybas-brunneus/browse_photos',\n",
       " 'https://inaturalist.nz/taxa/212223-Acanthoscelides-obtectus/browse_photos',\n",
       " 'https://inaturalist.nz/taxa/154814-Acanthuchus-trispinifer/browse_photos',\n",
       " 'https://inaturalist.nz/taxa/384922-Achilus-flammeus/browse_photos',\n",
       " 'https://inaturalist.nz/taxa/362715-Achroia-grisella/browse_photos']"
      ]
     },
     "execution_count": 25,
     "metadata": {},
     "output_type": "execute_result"
    }
   ],
   "source": [
    "searchUrl_image_link_list[:7]"
   ]
  },
  {
   "cell_type": "code",
   "execution_count": 26,
   "metadata": {},
   "outputs": [
    {
     "data": {
      "text/html": [
       "<div>\n",
       "<style scoped>\n",
       "    .dataframe tbody tr th:only-of-type {\n",
       "        vertical-align: middle;\n",
       "    }\n",
       "\n",
       "    .dataframe tbody tr th {\n",
       "        vertical-align: top;\n",
       "    }\n",
       "\n",
       "    .dataframe thead th {\n",
       "        text-align: right;\n",
       "    }\n",
       "</style>\n",
       "<table border=\"1\" class=\"dataframe\">\n",
       "  <thead>\n",
       "    <tr style=\"text-align: right;\">\n",
       "      <th></th>\n",
       "      <th>original_species_name</th>\n",
       "      <th>url</th>\n",
       "    </tr>\n",
       "  </thead>\n",
       "  <tbody>\n",
       "    <tr>\n",
       "      <th>0</th>\n",
       "      <td>Abgrallaspis cyanophylli</td>\n",
       "      <td>https://inaturalist.nz/taxa/122094-Abgrallaspi...</td>\n",
       "    </tr>\n",
       "    <tr>\n",
       "      <th>1</th>\n",
       "      <td>Acallopais rudis</td>\n",
       "      <td>NA</td>\n",
       "    </tr>\n",
       "    <tr>\n",
       "      <th>2</th>\n",
       "      <td>Acantholybas brunneus</td>\n",
       "      <td>https://inaturalist.nz/taxa/384843-Acantholyba...</td>\n",
       "    </tr>\n",
       "    <tr>\n",
       "      <th>3</th>\n",
       "      <td>Acanthoscelides obtectus</td>\n",
       "      <td>https://inaturalist.nz/taxa/212223-Acanthoscel...</td>\n",
       "    </tr>\n",
       "    <tr>\n",
       "      <th>4</th>\n",
       "      <td>Acanthuchus trispinifer</td>\n",
       "      <td>https://inaturalist.nz/taxa/154814-Acanthuchus...</td>\n",
       "    </tr>\n",
       "  </tbody>\n",
       "</table>\n",
       "</div>"
      ],
      "text/plain": [
       "      original_species_name                                                url\n",
       "0  Abgrallaspis cyanophylli  https://inaturalist.nz/taxa/122094-Abgrallaspi...\n",
       "1          Acallopais rudis                                                 NA\n",
       "2     Acantholybas brunneus  https://inaturalist.nz/taxa/384843-Acantholyba...\n",
       "3  Acanthoscelides obtectus  https://inaturalist.nz/taxa/212223-Acanthoscel...\n",
       "4   Acanthuchus trispinifer  https://inaturalist.nz/taxa/154814-Acanthuchus..."
      ]
     },
     "execution_count": 26,
     "metadata": {},
     "output_type": "execute_result"
    }
   ],
   "source": [
    "exotic_url_df = pd.DataFrame({\"original_species_name\":list_species, \"url\":searchUrl_image_link_list})\n",
    "exotic_url_df.head(5)"
   ]
  },
  {
   "cell_type": "code",
   "execution_count": 30,
   "metadata": {},
   "outputs": [
    {
     "data": {
      "text/html": [
       "<div>\n",
       "<style scoped>\n",
       "    .dataframe tbody tr th:only-of-type {\n",
       "        vertical-align: middle;\n",
       "    }\n",
       "\n",
       "    .dataframe tbody tr th {\n",
       "        vertical-align: top;\n",
       "    }\n",
       "\n",
       "    .dataframe thead th {\n",
       "        text-align: right;\n",
       "    }\n",
       "</style>\n",
       "<table border=\"1\" class=\"dataframe\">\n",
       "  <thead>\n",
       "    <tr style=\"text-align: right;\">\n",
       "      <th></th>\n",
       "      <th>original_species_name</th>\n",
       "      <th>url</th>\n",
       "    </tr>\n",
       "  </thead>\n",
       "  <tbody>\n",
       "    <tr>\n",
       "      <th>0</th>\n",
       "      <td>Abgrallaspis cyanophylli</td>\n",
       "      <td>https://inaturalist.nz/taxa/122094-Abgrallaspi...</td>\n",
       "    </tr>\n",
       "    <tr>\n",
       "      <th>1</th>\n",
       "      <td>Acallopais rudis</td>\n",
       "      <td>NA</td>\n",
       "    </tr>\n",
       "    <tr>\n",
       "      <th>2</th>\n",
       "      <td>Acantholybas brunneus</td>\n",
       "      <td>https://inaturalist.nz/taxa/384843-Acantholyba...</td>\n",
       "    </tr>\n",
       "    <tr>\n",
       "      <th>3</th>\n",
       "      <td>Acanthoscelides obtectus</td>\n",
       "      <td>https://inaturalist.nz/taxa/212223-Acanthoscel...</td>\n",
       "    </tr>\n",
       "  </tbody>\n",
       "</table>\n",
       "</div>"
      ],
      "text/plain": [
       "      original_species_name                                                url\n",
       "0  Abgrallaspis cyanophylli  https://inaturalist.nz/taxa/122094-Abgrallaspi...\n",
       "1          Acallopais rudis                                                 NA\n",
       "2     Acantholybas brunneus  https://inaturalist.nz/taxa/384843-Acantholyba...\n",
       "3  Acanthoscelides obtectus  https://inaturalist.nz/taxa/212223-Acanthoscel..."
      ]
     },
     "execution_count": 30,
     "metadata": {},
     "output_type": "execute_result"
    }
   ],
   "source": [
    "exotic_url_df[0:4]"
   ]
  },
  {
   "cell_type": "markdown",
   "metadata": {},
   "source": [
    "### Function for downloading the images"
   ]
  },
  {
   "cell_type": "code",
   "execution_count": 28,
   "metadata": {},
   "outputs": [],
   "source": [
    "# import time\n",
    "# import random\n",
    "\n",
    "# path = \"T:/projects/2018/SCION/Stream 2/190113_i_nat_images\"\n",
    "# def get_images(name, url_list):\n",
    "    \n",
    "#     for i in range(len(url_list)):\n",
    "#         seconds = random.randint(1,10)    \n",
    "          # time.sleep(seconds)\n",
    "#         # NOTE the stream=True parameter\n",
    "#         r = requests.get(url_list[i], stream=True)\n",
    "#         with open(\"{}/{}_{}.jpeg\".format(path, name, i), 'wb') as f:\n",
    "#             for chunk in r.iter_content(chunk_size=1024): \n",
    "#                 if chunk: # filter out keep-alive new chunks\n",
    "#                     f.write(chunk)"
   ]
  },
  {
   "cell_type": "code",
   "execution_count": null,
   "metadata": {},
   "outputs": [],
   "source": [
    "import time\n",
    "url_availablity = []\n",
    "image_availablity = []\n",
    "\n",
    "text_browse_photos = []\n",
    "\n",
    "for i in range(len(exotic_url_df)):\n",
    "    time.sleep(1)\n",
    "    name = exotic_url_df[\"original_species_name\"][i]\n",
    "    print(i)\n",
    "    url = exotic_url_df[\"url\"][i]\n",
    "    #print(url)\n",
    "    if url != 'NA':\n",
    "        #print(url)\n",
    "        driver.get(url)\n",
    "\n",
    "        html = driver.page_source\n",
    "        soup = bs(html, \"lxml\")\n",
    "        text  = soup.find_all(\"script\")\n",
    "        #print(text)\n",
    "        #web_text.append(text)\n",
    "        text_browse_photos.append(text)\n",
    "        text_list = str([text]).split(',')\n",
    "        url_list = []\n",
    "        for item in text_list:\n",
    "                       \n",
    "            item = item.strip('\"')\n",
    "            if item.startswith(\"large_url\"): # or item.startswith(\"url\")or item.startswith(\"medium_url\") :\n",
    "                item = item.split(':\"')\n",
    "                link_large = item[1].strip('\"}')\n",
    "                #print(link_large)\n",
    "                url_list.append(link_large)\n",
    "                \n",
    "        url_availablity.append(1)\n",
    "        \n",
    "        if len(url_list) > 0:\n",
    "            #get_images(name, url_list) \n",
    "            image_availablity.append(len(url_list))\n",
    "            \n",
    "        else:\n",
    "            image_availablity.append(0)\n",
    "            \n",
    "    else:\n",
    "        text_browse_photos.append(\"NA\")\n",
    "        url_availablity.append(0)\n",
    "        image_availablity.append(0)        \n",
    "        "
   ]
  },
  {
   "cell_type": "markdown",
   "metadata": {},
   "source": [
    "### Getting the Images"
   ]
  },
  {
   "cell_type": "code",
   "execution_count": 37,
   "metadata": {},
   "outputs": [],
   "source": [
    "exotic_url_df[\"url_availablity\"] = url_availablity"
   ]
  },
  {
   "cell_type": "code",
   "execution_count": 38,
   "metadata": {},
   "outputs": [],
   "source": [
    "exotic_url_df[\"image_availablity\"] = image_availablity"
   ]
  },
  {
   "cell_type": "code",
   "execution_count": 54,
   "metadata": {},
   "outputs": [
    {
     "data": {
      "text/plain": [
       "733"
      ]
     },
     "execution_count": 54,
     "metadata": {},
     "output_type": "execute_result"
    }
   ],
   "source": [
    "exotic_species_with_inat_pic = len(exotic_url_df[exotic_url_df.image_availablity != 0])\n",
    "exotic_species_with_inat_pic"
   ]
  },
  {
   "cell_type": "code",
   "execution_count": 55,
   "metadata": {},
   "outputs": [
    {
     "data": {
      "text/plain": [
       "1366"
      ]
     },
     "execution_count": 55,
     "metadata": {},
     "output_type": "execute_result"
    }
   ],
   "source": [
    "exotic_species_with_photos_url = len(exotic_url_df[exotic_url_df.url_availablity != 0])\n",
    "exotic_species_with_photos_url"
   ]
  },
  {
   "cell_type": "code",
   "execution_count": 56,
   "metadata": {},
   "outputs": [
    {
     "data": {
      "text/plain": [
       "1776"
      ]
     },
     "execution_count": 56,
     "metadata": {},
     "output_type": "execute_result"
    }
   ],
   "source": [
    "#Total photos downloaded : 1776/ good photos = 1704\n",
    "\n",
    "sum(image_availablity)"
   ]
  },
  {
   "cell_type": "markdown",
   "metadata": {},
   "source": [
    "#### List of Good Photos"
   ]
  },
  {
   "cell_type": "code",
   "execution_count": 61,
   "metadata": {},
   "outputs": [],
   "source": [
    "subdir = 'T:/projects/2018/SCION/Stream 2/190113_GOOD_i_nat_images'\n",
    "\n",
    "species_name = {}\n",
    "\n",
    "for images in os.listdir(subdir):\n",
    "    \n",
    "    new = images.split(' ')\n",
    "    #print(new[0] + ' ' + new[1])\n",
    "    first_name = new[0] \n",
    "    second_name = new[1].split('_')[0]\n",
    "    insect_name = first_name + ' ' + second_name\n",
    "    if insect_name not in species_name:\n",
    "        species_name[insect_name] = 1\n",
    "    \n",
    "    else:\n",
    "        species_name[insect_name] += 1\n",
    "    "
   ]
  },
  {
   "cell_type": "code",
   "execution_count": null,
   "metadata": {},
   "outputs": [],
   "source": [
    "insects_with_inat_photos = list(species_name.keys())\n",
    "insects_with_inat_photos"
   ]
  },
  {
   "cell_type": "code",
   "execution_count": 66,
   "metadata": {},
   "outputs": [],
   "source": [
    "good_photo_details = pd.DataFrame({'insects_with_inat_photos' : insects_with_inat_photos, \"number_of_photos_each_insect\":number_of_photos_each_insect})"
   ]
  },
  {
   "cell_type": "code",
   "execution_count": 67,
   "metadata": {},
   "outputs": [
    {
     "data": {
      "text/html": [
       "<div>\n",
       "<style scoped>\n",
       "    .dataframe tbody tr th:only-of-type {\n",
       "        vertical-align: middle;\n",
       "    }\n",
       "\n",
       "    .dataframe tbody tr th {\n",
       "        vertical-align: top;\n",
       "    }\n",
       "\n",
       "    .dataframe thead th {\n",
       "        text-align: right;\n",
       "    }\n",
       "</style>\n",
       "<table border=\"1\" class=\"dataframe\">\n",
       "  <thead>\n",
       "    <tr style=\"text-align: right;\">\n",
       "      <th></th>\n",
       "      <th>insects_with_inat_photos</th>\n",
       "      <th>number_of_photos_each_insect</th>\n",
       "    </tr>\n",
       "  </thead>\n",
       "  <tbody>\n",
       "    <tr>\n",
       "      <th>0</th>\n",
       "      <td>Acantholybas brunneus</td>\n",
       "      <td>1</td>\n",
       "    </tr>\n",
       "    <tr>\n",
       "      <th>1</th>\n",
       "      <td>Acanthoscelides obtectus</td>\n",
       "      <td>4</td>\n",
       "    </tr>\n",
       "    <tr>\n",
       "      <th>2</th>\n",
       "      <td>Acanthuchus trispinifer</td>\n",
       "      <td>1</td>\n",
       "    </tr>\n",
       "    <tr>\n",
       "      <th>3</th>\n",
       "      <td>Achilus flammeus</td>\n",
       "      <td>1</td>\n",
       "    </tr>\n",
       "    <tr>\n",
       "      <th>4</th>\n",
       "      <td>Achroia grisella</td>\n",
       "      <td>1</td>\n",
       "    </tr>\n",
       "  </tbody>\n",
       "</table>\n",
       "</div>"
      ],
      "text/plain": [
       "   insects_with_inat_photos  number_of_photos_each_insect\n",
       "0     Acantholybas brunneus                             1\n",
       "1  Acanthoscelides obtectus                             4\n",
       "2   Acanthuchus trispinifer                             1\n",
       "3          Achilus flammeus                             1\n",
       "4          Achroia grisella                             1"
      ]
     },
     "execution_count": 67,
     "metadata": {},
     "output_type": "execute_result"
    }
   ],
   "source": [
    "good_photo_details.head(5)"
   ]
  },
  {
   "cell_type": "code",
   "execution_count": 68,
   "metadata": {},
   "outputs": [
    {
     "data": {
      "text/plain": [
       "716"
      ]
     },
     "execution_count": 68,
     "metadata": {},
     "output_type": "execute_result"
    }
   ],
   "source": [
    "len(good_photo_details)"
   ]
  },
  {
   "cell_type": "code",
   "execution_count": 69,
   "metadata": {},
   "outputs": [
    {
     "data": {
      "text/plain": [
       "1698"
      ]
     },
     "execution_count": 69,
     "metadata": {},
     "output_type": "execute_result"
    }
   ],
   "source": [
    "sum(number_of_photos_each_insect)"
   ]
  },
  {
   "cell_type": "markdown",
   "metadata": {},
   "source": [
    "### Dataframe with HTML text for later use if required."
   ]
  },
  {
   "cell_type": "code",
   "execution_count": 42,
   "metadata": {},
   "outputs": [],
   "source": [
    "#text_browse_photos[:1]"
   ]
  },
  {
   "cell_type": "code",
   "execution_count": 43,
   "metadata": {},
   "outputs": [],
   "source": [
    "exotic_url_df_with_text = exotic_url_df"
   ]
  },
  {
   "cell_type": "code",
   "execution_count": 44,
   "metadata": {},
   "outputs": [],
   "source": [
    "exotic_url_df_with_text[\"text_browse_photo_page\"] =text_browse_photos"
   ]
  },
  {
   "cell_type": "code",
   "execution_count": null,
   "metadata": {},
   "outputs": [],
   "source": [
    "#exotic_url_df.to_csv(\"T:/projects/2018/SCION/Stream 2/190114_LIST_OF_INAT_IMAGES_WITH TEXT.csv\")"
   ]
  },
  {
   "cell_type": "code",
   "execution_count": 45,
   "metadata": {},
   "outputs": [],
   "source": [
    "exotic_url_df_with_text.to_csv(\"T:/projects/2018/SCION/Stream 2/190114_LIST_OF_INAT_IMAGES_WITH TEXT.csv\")"
   ]
  },
  {
   "cell_type": "code",
   "execution_count": 47,
   "metadata": {},
   "outputs": [
    {
     "data": {
      "text/html": [
       "<div>\n",
       "<style scoped>\n",
       "    .dataframe tbody tr th:only-of-type {\n",
       "        vertical-align: middle;\n",
       "    }\n",
       "\n",
       "    .dataframe tbody tr th {\n",
       "        vertical-align: top;\n",
       "    }\n",
       "\n",
       "    .dataframe thead th {\n",
       "        text-align: right;\n",
       "    }\n",
       "</style>\n",
       "<table border=\"1\" class=\"dataframe\">\n",
       "  <thead>\n",
       "    <tr style=\"text-align: right;\">\n",
       "      <th></th>\n",
       "      <th>original_species_name</th>\n",
       "      <th>url</th>\n",
       "      <th>url_availablity</th>\n",
       "      <th>image_availablity</th>\n",
       "      <th>text_browse_photo_page</th>\n",
       "    </tr>\n",
       "  </thead>\n",
       "  <tbody>\n",
       "    <tr>\n",
       "      <th>0</th>\n",
       "      <td>Abgrallaspis cyanophylli</td>\n",
       "      <td>https://inaturalist.nz/taxa/122094-Abgrallaspi...</td>\n",
       "      <td>1</td>\n",
       "      <td>0</td>\n",
       "      <td>[&lt;script src=\"https://js-agent.newrelic.com/nr...</td>\n",
       "    </tr>\n",
       "    <tr>\n",
       "      <th>1</th>\n",
       "      <td>Acallopais rudis</td>\n",
       "      <td>NA</td>\n",
       "      <td>0</td>\n",
       "      <td>0</td>\n",
       "      <td>NA</td>\n",
       "    </tr>\n",
       "    <tr>\n",
       "      <th>2</th>\n",
       "      <td>Acantholybas brunneus</td>\n",
       "      <td>https://inaturalist.nz/taxa/384843-Acantholyba...</td>\n",
       "      <td>1</td>\n",
       "      <td>1</td>\n",
       "      <td>[&lt;script src=\"https://js-agent.newrelic.com/nr...</td>\n",
       "    </tr>\n",
       "    <tr>\n",
       "      <th>3</th>\n",
       "      <td>Acanthoscelides obtectus</td>\n",
       "      <td>https://inaturalist.nz/taxa/212223-Acanthoscel...</td>\n",
       "      <td>1</td>\n",
       "      <td>5</td>\n",
       "      <td>[&lt;script src=\"https://js-agent.newrelic.com/nr...</td>\n",
       "    </tr>\n",
       "    <tr>\n",
       "      <th>4</th>\n",
       "      <td>Acanthuchus trispinifer</td>\n",
       "      <td>https://inaturalist.nz/taxa/154814-Acanthuchus...</td>\n",
       "      <td>1</td>\n",
       "      <td>1</td>\n",
       "      <td>[&lt;script src=\"https://js-agent.newrelic.com/nr...</td>\n",
       "    </tr>\n",
       "  </tbody>\n",
       "</table>\n",
       "</div>"
      ],
      "text/plain": [
       "      original_species_name  \\\n",
       "0  Abgrallaspis cyanophylli   \n",
       "1          Acallopais rudis   \n",
       "2     Acantholybas brunneus   \n",
       "3  Acanthoscelides obtectus   \n",
       "4   Acanthuchus trispinifer   \n",
       "\n",
       "                                                 url  url_availablity  \\\n",
       "0  https://inaturalist.nz/taxa/122094-Abgrallaspi...                1   \n",
       "1                                                 NA                0   \n",
       "2  https://inaturalist.nz/taxa/384843-Acantholyba...                1   \n",
       "3  https://inaturalist.nz/taxa/212223-Acanthoscel...                1   \n",
       "4  https://inaturalist.nz/taxa/154814-Acanthuchus...                1   \n",
       "\n",
       "   image_availablity                             text_browse_photo_page  \n",
       "0                  0  [<script src=\"https://js-agent.newrelic.com/nr...  \n",
       "1                  0                                                 NA  \n",
       "2                  1  [<script src=\"https://js-agent.newrelic.com/nr...  \n",
       "3                  5  [<script src=\"https://js-agent.newrelic.com/nr...  \n",
       "4                  1  [<script src=\"https://js-agent.newrelic.com/nr...  "
      ]
     },
     "execution_count": 47,
     "metadata": {},
     "output_type": "execute_result"
    }
   ],
   "source": [
    "exotic_url_df_with_text.head(5)"
   ]
  },
  {
   "cell_type": "markdown",
   "metadata": {},
   "source": [
    "## THE END "
   ]
  }
 ],
 "metadata": {
  "kernelspec": {
   "display_name": "Python 3",
   "language": "python",
   "name": "python3"
  },
  "language_info": {
   "codemirror_mode": {
    "name": "ipython",
    "version": 3
   },
   "file_extension": ".py",
   "mimetype": "text/x-python",
   "name": "python",
   "nbconvert_exporter": "python",
   "pygments_lexer": "ipython3",
   "version": "3.6.5"
  }
 },
 "nbformat": 4,
 "nbformat_minor": 2
}
